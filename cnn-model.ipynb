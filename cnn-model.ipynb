{
 "cells": [
  {
   "cell_type": "markdown",
   "id": "762c891695fa1f8e",
   "metadata": {},
   "source": [
    "## Carregamento dos Dados"
   ]
  },
  {
   "cell_type": "code",
   "id": "initial_id",
   "metadata": {
    "collapsed": true,
    "ExecuteTime": {
     "end_time": "2025-07-21T15:45:48.283195Z",
     "start_time": "2025-07-21T15:45:42.597045Z"
    }
   },
   "source": [
    "import tensorflow as tf\n",
    "\n",
    "x_train = tf.keras.utils.image_dataset_from_directory(\n",
    "    \"dataset/train\",\n",
    "    labels=\"inferred\", # Os rótulos são definidos a partir dos nomes das subpastas\n",
    "    label_mode=\"categorical\", # Formato categórico dos rótulos\n",
    "    batch_size=32, # Lotes de 32 imagens\n",
    "    image_size=(128, 128), # Redimensiona as imagens para 128x128\n",
    "    shuffle=True, # Embaralha as imagens para evitar que a rede aprenda padrões de ordenação\n",
    ")\n",
    "\n",
    "x_test = tf.keras.utils.image_dataset_from_directory(\n",
    "    \"dataset/test\",\n",
    "    labels=\"inferred\", # Os rótulos são definidos a partir dos nomes das subpastas\n",
    "    label_mode=\"categorical\", # Formato categórico dos rótulos\n",
    "    batch_size=32, # Lotes de 32 imagens\n",
    "    image_size=(128, 128), # Redimensiona as imagens para 128x128\n",
    "    shuffle=False, # Não precisa embaralhar nos dados de teste\n",
    ")\n",
    "\n",
    "x_val = tf.keras.utils.image_dataset_from_directory(\n",
    "    \"dataset/validation\",\n",
    "    labels=\"inferred\", # Os rótulos são definidos a partir dos nomes das subpastas\n",
    "    label_mode=\"categorical\", # Formato categórico dos rótulos\n",
    "    batch_size=32, # Lotes de 32 imagens\n",
    "    image_size=(128, 128), # Redimensiona as imagens para 128x128\n",
    "    shuffle=False, # Não precisa embaralhar nos dados de validação\n",
    ")"
   ],
   "outputs": [
    {
     "name": "stdout",
     "output_type": "stream",
     "text": [
      "Found 7000 files belonging to 7 classes.\n",
      "Found 1400 files belonging to 7 classes.\n",
      "Found 1400 files belonging to 7 classes.\n"
     ]
    }
   ],
   "execution_count": 1
  },
  {
   "cell_type": "markdown",
   "id": "907cfe3e98437d5b",
   "metadata": {},
   "source": [
    "## Normalização"
   ]
  },
  {
   "cell_type": "code",
   "id": "263f315e1002d825",
   "metadata": {
    "ExecuteTime": {
     "end_time": "2025-07-21T15:45:48.392836Z",
     "start_time": "2025-07-21T15:45:48.310225Z"
    }
   },
   "source": [
    "# Camada que normaliza as imagens do intervalo [0, 255] para [0, 1]\n",
    "normalization_layer = tf.keras.layers.Rescaling(1./255)\n",
    "\n",
    "# Aplicação a normalização às imagens de cada dataset\n",
    "x_train = x_train.map(lambda x, y: (normalization_layer(x), y))\n",
    "x_val = x_val.map(lambda x, y: (normalization_layer(x), y))\n",
    "x_test = x_test.map(lambda x, y: (normalization_layer(x), y))"
   ],
   "outputs": [],
   "execution_count": 2
  },
  {
   "cell_type": "markdown",
   "id": "9322a3ca",
   "metadata": {},
   "source": [
    "## Criação do Modelo CNN\n",
    "\n",
    "Para a criação da CNN foi utilizado o modelo **Sequential**, o qual estabelece uma sequência de camadas que são empilhadas e executadas sequencialmente.\n",
    "\n",
    "### Camada Convolucional\n",
    "\n",
    "Essa camada detecta os padrões presentes na imagem e retorna as suas características.\n",
    "\n",
    "Uma camada `Conv2D` usa filtros, uma pequena matriz de números, que desliza sobre a imagem. Em cada posição é realizado uma operação matemática que retorna um número que representa o quão presente é o padrão daquele filtro na imagem; quanto maior o número mais presente será esse padrão. No final dessa operação é retornado um mapa de características. Se tiver 32 filtros, haverá 32 mapas de características diferentes, cada um destacando um tipo específico de padrão.\n",
    "\n",
    "Em cada mapa é aplicado a função de ativação `ReLU (max(0, z))`, que transforma todas os negativos em 0.\n",
    "\n",
    "Na primeira camada Convolucional é aplicado **32 filtros** de matriz **3x3** à imagem original de **128x128**, resultando em **32 mapas de características**. Esses filtros aprenderão caracaterísticas de baixo nível, como bordas e cantos.\n",
    "\n",
    "Os 32 mapas da camada anterior servirão como entrada para a segunda camada, onde **64 novos filtros** percorrerão esses mapas. Os filtros dessa camada irão combinar as características de baixo nível que foram aprendidas na camada anterior para detectar padrões mais complexos. Ao final dessa camada terá **64 novos mapas de características**.\n",
    "\n",
    "A terceira camada Convolucional executará o mesmo processo anterior com **128 filtros**, resultando em **128 mapas de características** com padrões ainda mais complexos e abstratos.\n",
    "\n",
    "### Camada de Pooling\n",
    "\n",
    "Após cada camada Convolucional é executado uma camada de agrupamento, onde o tamanho dos mapas de características é reduzido. Neste caso, o `MaxPooling2D` divide os mapas em regiões **2x2** e seleciona o valor máximo dentro de cada região.\n",
    "\n",
    "Ao realizar esse processo, o tamanho dos mapas é reduzido pela metade, mantendo apenas as características mais relevantes. Além disso, a diminuição de parâmetros ajuda a prevenir o overfitting.\n",
    "\n",
    "### Camada de Flatten\n",
    "\n",
    "Nessa camada a estrutura 3D das informações que foram passadas pelas camadas anteriores são transformadas em um único vetor 1D. Isso é necessário porque as próximas camadas esperam uma entrada em formato de vetor.\n",
    "\n",
    "### Camada de Dropout\n",
    "\n",
    "A técnica de `Dropout` utilizada nessa camada está \"desligando\" (define como 0) aleatoriamente 50% dos neurônios da camada anterior em cada iteração do treinamento. Isso é necessário porque força o modelo a aprender características mais robustas das imagens e não depender apenas de um único neurônio para tomar a decisão. Essa camada evita que o modelo aprenda demais de quaisquer características ajudando a generalizar melhor, evitando o overfitting.\n",
    "\n",
    "### Camada Densa\n",
    "\n",
    "As camadas densas são onde as características aprendidas são combinadas para a decisão final, em que os 128 neurônios realizam um cálculo ponderado de todos os valores de entrada do vetor da camada anterior.\n",
    "\n",
    "$$Output_j = \\sum_{i} (Input_i \\times Weight_{ij}) + Bias_j$$\n",
    "\n",
    "O resultado desse cálculo passa pela função de ativação **ReLU**. Se o valor for positivo, ele permanece o mesmo; se for negativo, torna-se zero.\n",
    "\n",
    "Por fim, é executado a última camada do modelo, em que os 7 neurônios dessa camada, que correspondem às 7 classes das células, recebem a saída dos 128 neurônios da camada anterior e realizam novamente o cálculo ponderado.\n",
    "\n",
    "As saídas desses 7 neurônios são passados pela função **Softmax**, que converte os valores em probabilidades, onde cada valor está entre **0 e 1**. A soma das probabilidades de todas as 7 saídas sempre será igual a 1. O neurônio com maior probabilidade indica classe que foi prevista pelo modelo."
   ]
  },
  {
   "cell_type": "code",
   "id": "08ba4ea4",
   "metadata": {
    "ExecuteTime": {
     "end_time": "2025-07-21T16:41:54.766765Z",
     "start_time": "2025-07-21T16:41:54.734736Z"
    }
   },
   "source": [
    "data_augmentation = tf.keras.Sequential([\n",
    "    tf.keras.layers.RandomFlip(\"horizontal_and_vertical\"),\n",
    "    tf.keras.layers.RandomRotation(0.1), # Rotaciona em até 20%\n",
    "    tf.keras.layers.RandomZoom(0.1),     # Zoom em até 20%\n",
    "    tf.keras.layers.RandomContrast(0.1)  # Ajuste de contraste em até 20%\n",
    "    # Considere também RandomTranslation para pequenas translações\n",
    "])\n",
    "\n",
    "# Modelo sequencial onde as camadas são empilhadas uma acima da outra\n",
    "model = tf.keras.Sequential([\n",
    "    data_augmentation,\n",
    "    # Primeira camada Convolucional \n",
    "    tf.keras.layers.Conv2D(64, # Número de filtros\n",
    "                           (3, 3), # Tamanho do filtro (3 por 3 pixels)\n",
    "                           activation='relu', # Função de ativação ReLU\n",
    "                           input_shape=(128, 128, 3)), # Dimenções das imagens\n",
    "\n",
    "    # Reduz a resolução da imagem pela metade através do agrupamento guloso de um grupo de 2 por 2 pixels\n",
    "    tf.keras.layers.MaxPooling2D((2, 2)),\n",
    "    # Evita overfitting desligando 30% dos neurónios de maneira aleatória durante os treinos\n",
    "    tf.keras.layers.Dropout(0.3),\n",
    "\n",
    "    # Segunda camada Convolucional \n",
    "    tf.keras.layers.Conv2D(128, (3, 3), activation='relu'),\n",
    "    tf.keras.layers.MaxPooling2D((2, 2)),\n",
    "    tf.keras.layers.Dropout(0.3),\n",
    "\n",
    "    # Terceira camada Convolucional \n",
    "    tf.keras.layers.Conv2D(256, (3, 3), activation='relu'),\n",
    "    tf.keras.layers.MaxPooling2D((2, 2)),\n",
    "    tf.keras.layers.Dropout(0.3),\n",
    "\n",
    "    # Transforma a saída 3D da ultima camada em um vetor de uma dimenção\n",
    "    tf.keras.layers.Flatten(),\n",
    "    # Nessa camada anterior 50% dos neurõnios são desligados\n",
    "    tf.keras.layers.Dropout(0.5),\n",
    "\n",
    "    # Camada com 128 neurônios conectados\n",
    "    tf.keras.layers.Dense(256, activation='relu'),\n",
    "    \n",
    "    # Camada com o numero de tipos de celulas e função de ativação Softmax (transforma valores em probabilidades)\n",
    "    tf.keras.layers.Dense(7, activation='softmax')\n",
    "])"
   ],
   "outputs": [],
   "execution_count": 8
  },
  {
   "cell_type": "markdown",
   "id": "22087714",
   "metadata": {},
   "source": [
    "## Compilação do Modelo\n",
    "\n",
    "Aqui o modelo é configurado para treinamento. Durante a compilação são definidos três elementos essenciais:\n",
    "- <strong>Otimizador</strong>: Algoritmo responsável por realizar ajustes nos pesos da rede neural a cada iteração durante o treinamento com base nos erros. O modelo escolhido foi o <strong>Adam</strong>, que ajusta dinamicamente a taxa de aprendizado e acelera a convergência.\n",
    "- <strong>Função de perda</strong>: Indica o quão distante está a resposta do valor esperado. A função escolhida foi a categorical crossentropy, adequada para problemas com rótulos armazenados em formato de vetor onde a posição da classe correta fica em 1 enquanto as demais ficam em 0.\n",
    "- <strong>Métrica de avaliação</strong>: Serve para acompanhar o desempenho do modelo durante o treinamento. Aqui foi usada a acurácia, que mede a proporcão entre a quantidade de acertos e de amostras. "
   ]
  },
  {
   "cell_type": "code",
   "id": "9b891f1b",
   "metadata": {
    "ExecuteTime": {
     "end_time": "2025-07-21T16:41:58.152501Z",
     "start_time": "2025-07-21T16:41:58.130986Z"
    }
   },
   "source": [
    "# Compila o modelo deixado pronto para treino\n",
    "model.compile(\n",
    "    # Otimizador \n",
    "    optimizer='adam',\n",
    "    # Função de perda\n",
    "    loss='categorical_crossentropy',\n",
    "    # Métrica para acompanhar a acurácia. \n",
    "    metrics=['accuracy']\n",
    ")"
   ],
   "outputs": [],
   "execution_count": 9
  },
  {
   "cell_type": "markdown",
   "id": "5f50940a",
   "metadata": {},
   "source": [
    "## Treinamento\n",
    "\n",
    "O modelo é treinado usando o _model.fit_, que executa multiplas épocas sobre a base de dados. Cada época passa por um conjunto de validação para acompanhamento do progresso. "
   ]
  },
  {
   "cell_type": "code",
   "id": "b278cd80",
   "metadata": {
    "ExecuteTime": {
     "end_time": "2025-07-21T18:23:43.961184Z",
     "start_time": "2025-07-21T16:41:59.687137Z"
    }
   },
   "source": [
    "from tensorflow.keras.callbacks import EarlyStopping\n",
    "from tensorflow.keras.callbacks import ReduceLROnPlateau\n",
    "\n",
    "reduce_lr = ReduceLROnPlateau(\n",
    "    monitor='val_loss', # Monitora a perda de validação\n",
    "    factor=0.2,         # Reduz a LR para 20% do valor atual\n",
    "    patience=5,         # Se a val_loss não melhorar em 5 épocas, reduza a LR\n",
    "    min_lr=0.00001,     # Taxa de aprendizado mínima para evitar que caia demais\n",
    "    verbose=1           # Para ver quando a LR é ajustada\n",
    ")\n",
    "\n",
    "early_stopping = EarlyStopping(\n",
    "    monitor='val_loss',\n",
    "    patience=10,\n",
    "    restore_best_weights=True # Garante que o modelo final seja o da melhor época de validação\n",
    ")\n",
    "\n",
    "history = model.fit(\n",
    "    x_train, # Dados de treinamento\n",
    "    validation_data=x_val, # Validação que acontece a cada época\n",
    "    epochs=100,  # pode ajustar conforme o desempenho\n",
    "    callbacks=[reduce_lr, early_stopping]\n",
    ")"
   ],
   "outputs": [
    {
     "name": "stdout",
     "output_type": "stream",
     "text": [
      "Epoch 1/100\n",
      "WARNING:tensorflow:Using a while_loop for converting RngReadAndSkip cause there is no registered converter for this op.\n",
      "WARNING:tensorflow:Using a while_loop for converting Bitcast cause there is no registered converter for this op.\n",
      "WARNING:tensorflow:Using a while_loop for converting Bitcast cause there is no registered converter for this op.\n",
      "WARNING:tensorflow:Using a while_loop for converting StatelessRandomUniformV2 cause there is no registered converter for this op.\n",
      "WARNING:tensorflow:Using a while_loop for converting ImageProjectiveTransformV3 cause there is no registered converter for this op.\n",
      "WARNING:tensorflow:Using a while_loop for converting RngReadAndSkip cause there is no registered converter for this op.\n",
      "WARNING:tensorflow:Using a while_loop for converting Bitcast cause there is no registered converter for this op.\n",
      "WARNING:tensorflow:Using a while_loop for converting Bitcast cause there is no registered converter for this op.\n",
      "WARNING:tensorflow:Using a while_loop for converting StatelessRandomUniformV2 cause there is no registered converter for this op.\n",
      "WARNING:tensorflow:Using a while_loop for converting ImageProjectiveTransformV3 cause there is no registered converter for this op.\n",
      "WARNING:tensorflow:Using a while_loop for converting RngReadAndSkip cause there is no registered converter for this op.\n",
      "WARNING:tensorflow:Using a while_loop for converting Bitcast cause there is no registered converter for this op.\n",
      "WARNING:tensorflow:Using a while_loop for converting Bitcast cause there is no registered converter for this op.\n",
      "WARNING:tensorflow:Using a while_loop for converting StatelessRandomUniformFullIntV2 cause there is no registered converter for this op.\n",
      "WARNING:tensorflow:Using a while_loop for converting StatelessRandomGetKeyCounter cause there is no registered converter for this op.\n",
      "WARNING:tensorflow:Using a while_loop for converting StatelessRandomUniformV2 cause there is no registered converter for this op.\n",
      "WARNING:tensorflow:Using a while_loop for converting AdjustContrastv2 cause Input \"contrast_factor\" of op 'AdjustContrastv2' expected to be loop invariant.\n",
      "WARNING:tensorflow:Using a while_loop for converting RngReadAndSkip cause there is no registered converter for this op.\n",
      "WARNING:tensorflow:Using a while_loop for converting Bitcast cause there is no registered converter for this op.\n",
      "WARNING:tensorflow:Using a while_loop for converting Bitcast cause there is no registered converter for this op.\n",
      "WARNING:tensorflow:Using a while_loop for converting StatelessRandomUniformV2 cause there is no registered converter for this op.\n",
      "WARNING:tensorflow:Using a while_loop for converting ImageProjectiveTransformV3 cause there is no registered converter for this op.\n",
      "WARNING:tensorflow:Using a while_loop for converting RngReadAndSkip cause there is no registered converter for this op.\n",
      "WARNING:tensorflow:Using a while_loop for converting Bitcast cause there is no registered converter for this op.\n",
      "WARNING:tensorflow:Using a while_loop for converting Bitcast cause there is no registered converter for this op.\n",
      "WARNING:tensorflow:Using a while_loop for converting StatelessRandomUniformV2 cause there is no registered converter for this op.\n",
      "WARNING:tensorflow:Using a while_loop for converting ImageProjectiveTransformV3 cause there is no registered converter for this op.\n",
      "WARNING:tensorflow:Using a while_loop for converting RngReadAndSkip cause there is no registered converter for this op.\n",
      "WARNING:tensorflow:Using a while_loop for converting Bitcast cause there is no registered converter for this op.\n",
      "WARNING:tensorflow:Using a while_loop for converting Bitcast cause there is no registered converter for this op.\n",
      "WARNING:tensorflow:Using a while_loop for converting StatelessRandomUniformFullIntV2 cause there is no registered converter for this op.\n",
      "WARNING:tensorflow:Using a while_loop for converting StatelessRandomGetKeyCounter cause there is no registered converter for this op.\n",
      "WARNING:tensorflow:Using a while_loop for converting StatelessRandomUniformV2 cause there is no registered converter for this op.\n",
      "WARNING:tensorflow:Using a while_loop for converting AdjustContrastv2 cause Input \"contrast_factor\" of op 'AdjustContrastv2' expected to be loop invariant.\n",
      "WARNING:tensorflow:Using a while_loop for converting RngReadAndSkip cause there is no registered converter for this op.\n",
      "WARNING:tensorflow:Using a while_loop for converting Bitcast cause there is no registered converter for this op.\n",
      "WARNING:tensorflow:Using a while_loop for converting Bitcast cause there is no registered converter for this op.\n",
      "WARNING:tensorflow:Using a while_loop for converting StatelessRandomUniformV2 cause there is no registered converter for this op.\n",
      "WARNING:tensorflow:Using a while_loop for converting ImageProjectiveTransformV3 cause there is no registered converter for this op.\n",
      "WARNING:tensorflow:Using a while_loop for converting RngReadAndSkip cause there is no registered converter for this op.\n",
      "WARNING:tensorflow:Using a while_loop for converting Bitcast cause there is no registered converter for this op.\n",
      "WARNING:tensorflow:Using a while_loop for converting Bitcast cause there is no registered converter for this op.\n",
      "WARNING:tensorflow:Using a while_loop for converting StatelessRandomUniformV2 cause there is no registered converter for this op.\n",
      "WARNING:tensorflow:Using a while_loop for converting ImageProjectiveTransformV3 cause there is no registered converter for this op.\n",
      "WARNING:tensorflow:Using a while_loop for converting RngReadAndSkip cause there is no registered converter for this op.\n",
      "WARNING:tensorflow:Using a while_loop for converting Bitcast cause there is no registered converter for this op.\n",
      "WARNING:tensorflow:Using a while_loop for converting Bitcast cause there is no registered converter for this op.\n",
      "WARNING:tensorflow:Using a while_loop for converting StatelessRandomUniformFullIntV2 cause there is no registered converter for this op.\n",
      "WARNING:tensorflow:Using a while_loop for converting StatelessRandomGetKeyCounter cause there is no registered converter for this op.\n",
      "WARNING:tensorflow:Using a while_loop for converting StatelessRandomUniformV2 cause there is no registered converter for this op.\n",
      "WARNING:tensorflow:Using a while_loop for converting AdjustContrastv2 cause Input \"contrast_factor\" of op 'AdjustContrastv2' expected to be loop invariant.\n",
      "WARNING:tensorflow:Using a while_loop for converting RngReadAndSkip cause there is no registered converter for this op.\n",
      "WARNING:tensorflow:Using a while_loop for converting Bitcast cause there is no registered converter for this op.\n",
      "WARNING:tensorflow:Using a while_loop for converting Bitcast cause there is no registered converter for this op.\n",
      "WARNING:tensorflow:Using a while_loop for converting StatelessRandomUniformV2 cause there is no registered converter for this op.\n",
      "WARNING:tensorflow:Using a while_loop for converting ImageProjectiveTransformV3 cause there is no registered converter for this op.\n",
      "WARNING:tensorflow:Using a while_loop for converting RngReadAndSkip cause there is no registered converter for this op.\n",
      "WARNING:tensorflow:Using a while_loop for converting Bitcast cause there is no registered converter for this op.\n",
      "WARNING:tensorflow:Using a while_loop for converting Bitcast cause there is no registered converter for this op.\n",
      "WARNING:tensorflow:Using a while_loop for converting StatelessRandomUniformV2 cause there is no registered converter for this op.\n",
      "WARNING:tensorflow:Using a while_loop for converting ImageProjectiveTransformV3 cause there is no registered converter for this op.\n",
      "WARNING:tensorflow:Using a while_loop for converting RngReadAndSkip cause there is no registered converter for this op.\n",
      "WARNING:tensorflow:Using a while_loop for converting Bitcast cause there is no registered converter for this op.\n",
      "WARNING:tensorflow:Using a while_loop for converting Bitcast cause there is no registered converter for this op.\n",
      "WARNING:tensorflow:Using a while_loop for converting StatelessRandomUniformFullIntV2 cause there is no registered converter for this op.\n",
      "WARNING:tensorflow:Using a while_loop for converting StatelessRandomGetKeyCounter cause there is no registered converter for this op.\n",
      "WARNING:tensorflow:Using a while_loop for converting StatelessRandomUniformV2 cause there is no registered converter for this op.\n",
      "WARNING:tensorflow:Using a while_loop for converting AdjustContrastv2 cause Input \"contrast_factor\" of op 'AdjustContrastv2' expected to be loop invariant.\n",
      "219/219 [==============================] - 149s 646ms/step - loss: 1.8099 - accuracy: 0.2829 - val_loss: 1.5924 - val_accuracy: 0.3821 - lr: 0.0010\n",
      "Epoch 2/100\n",
      "219/219 [==============================] - 142s 648ms/step - loss: 1.5437 - accuracy: 0.3761 - val_loss: 1.4321 - val_accuracy: 0.4436 - lr: 0.0010\n",
      "Epoch 3/100\n",
      "219/219 [==============================] - 147s 670ms/step - loss: 1.4642 - accuracy: 0.4174 - val_loss: 1.3759 - val_accuracy: 0.4693 - lr: 0.0010\n",
      "Epoch 4/100\n",
      "219/219 [==============================] - 137s 626ms/step - loss: 1.4038 - accuracy: 0.4520 - val_loss: 1.2946 - val_accuracy: 0.5071 - lr: 0.0010\n",
      "Epoch 5/100\n",
      "219/219 [==============================] - 130s 591ms/step - loss: 1.3569 - accuracy: 0.4754 - val_loss: 1.2915 - val_accuracy: 0.5143 - lr: 0.0010\n",
      "Epoch 6/100\n",
      "219/219 [==============================] - 127s 582ms/step - loss: 1.3235 - accuracy: 0.4830 - val_loss: 1.2541 - val_accuracy: 0.5171 - lr: 0.0010\n",
      "Epoch 7/100\n",
      "219/219 [==============================] - 129s 591ms/step - loss: 1.2730 - accuracy: 0.5070 - val_loss: 1.2171 - val_accuracy: 0.5343 - lr: 0.0010\n",
      "Epoch 8/100\n",
      "219/219 [==============================] - 129s 590ms/step - loss: 1.2359 - accuracy: 0.5203 - val_loss: 1.1785 - val_accuracy: 0.5421 - lr: 0.0010\n",
      "Epoch 9/100\n",
      "219/219 [==============================] - 128s 585ms/step - loss: 1.2103 - accuracy: 0.5324 - val_loss: 1.1716 - val_accuracy: 0.5464 - lr: 0.0010\n",
      "Epoch 10/100\n",
      "219/219 [==============================] - 139s 632ms/step - loss: 1.1825 - accuracy: 0.5496 - val_loss: 1.1591 - val_accuracy: 0.5586 - lr: 0.0010\n",
      "Epoch 11/100\n",
      "219/219 [==============================] - 155s 708ms/step - loss: 1.1430 - accuracy: 0.5599 - val_loss: 1.1351 - val_accuracy: 0.5786 - lr: 0.0010\n",
      "Epoch 12/100\n",
      "219/219 [==============================] - 151s 687ms/step - loss: 1.1171 - accuracy: 0.5789 - val_loss: 1.1511 - val_accuracy: 0.5679 - lr: 0.0010\n",
      "Epoch 13/100\n",
      "219/219 [==============================] - 134s 613ms/step - loss: 1.0868 - accuracy: 0.5870 - val_loss: 1.1113 - val_accuracy: 0.5907 - lr: 0.0010\n",
      "Epoch 14/100\n",
      "219/219 [==============================] - 149s 680ms/step - loss: 1.0613 - accuracy: 0.5994 - val_loss: 1.1151 - val_accuracy: 0.5864 - lr: 0.0010\n",
      "Epoch 15/100\n",
      "219/219 [==============================] - 141s 643ms/step - loss: 1.0281 - accuracy: 0.6214 - val_loss: 1.1198 - val_accuracy: 0.5921 - lr: 0.0010\n",
      "Epoch 16/100\n",
      "219/219 [==============================] - 131s 600ms/step - loss: 1.0109 - accuracy: 0.6157 - val_loss: 1.0777 - val_accuracy: 0.6086 - lr: 0.0010\n",
      "Epoch 17/100\n",
      "219/219 [==============================] - 141s 643ms/step - loss: 0.9889 - accuracy: 0.6237 - val_loss: 1.0960 - val_accuracy: 0.6071 - lr: 0.0010\n",
      "Epoch 18/100\n",
      "219/219 [==============================] - 141s 644ms/step - loss: 0.9587 - accuracy: 0.6410 - val_loss: 1.0541 - val_accuracy: 0.6100 - lr: 0.0010\n",
      "Epoch 19/100\n",
      "219/219 [==============================] - 135s 614ms/step - loss: 0.9234 - accuracy: 0.6486 - val_loss: 1.0254 - val_accuracy: 0.6429 - lr: 0.0010\n",
      "Epoch 20/100\n",
      "219/219 [==============================] - 140s 638ms/step - loss: 0.9234 - accuracy: 0.6524 - val_loss: 1.0556 - val_accuracy: 0.6250 - lr: 0.0010\n",
      "Epoch 21/100\n",
      "219/219 [==============================] - 133s 608ms/step - loss: 0.8853 - accuracy: 0.6686 - val_loss: 1.0211 - val_accuracy: 0.6200 - lr: 0.0010\n",
      "Epoch 22/100\n",
      "219/219 [==============================] - 137s 625ms/step - loss: 0.8467 - accuracy: 0.6929 - val_loss: 1.0284 - val_accuracy: 0.6250 - lr: 0.0010\n",
      "Epoch 23/100\n",
      "219/219 [==============================] - 146s 664ms/step - loss: 0.8473 - accuracy: 0.6871 - val_loss: 0.9936 - val_accuracy: 0.6450 - lr: 0.0010\n",
      "Epoch 24/100\n",
      "219/219 [==============================] - 152s 691ms/step - loss: 0.8057 - accuracy: 0.6960 - val_loss: 0.9724 - val_accuracy: 0.6514 - lr: 0.0010\n",
      "Epoch 25/100\n",
      "219/219 [==============================] - 139s 635ms/step - loss: 0.7816 - accuracy: 0.7096 - val_loss: 1.0008 - val_accuracy: 0.6521 - lr: 0.0010\n",
      "Epoch 26/100\n",
      "219/219 [==============================] - 142s 647ms/step - loss: 0.7738 - accuracy: 0.7104 - val_loss: 0.9638 - val_accuracy: 0.6593 - lr: 0.0010\n",
      "Epoch 27/100\n",
      "219/219 [==============================] - 141s 642ms/step - loss: 0.7370 - accuracy: 0.7286 - val_loss: 0.9904 - val_accuracy: 0.6600 - lr: 0.0010\n",
      "Epoch 28/100\n",
      "219/219 [==============================] - 140s 638ms/step - loss: 0.7408 - accuracy: 0.7266 - val_loss: 0.9826 - val_accuracy: 0.6750 - lr: 0.0010\n",
      "Epoch 29/100\n",
      "219/219 [==============================] - 135s 616ms/step - loss: 0.7179 - accuracy: 0.7353 - val_loss: 0.9735 - val_accuracy: 0.6743 - lr: 0.0010\n",
      "Epoch 30/100\n",
      "219/219 [==============================] - 129s 588ms/step - loss: 0.7025 - accuracy: 0.7433 - val_loss: 0.9728 - val_accuracy: 0.6693 - lr: 0.0010\n",
      "Epoch 31/100\n",
      "219/219 [==============================] - ETA: 0s - loss: 0.6727 - accuracy: 0.7471\n",
      "Epoch 31: ReduceLROnPlateau reducing learning rate to 0.00020000000949949026.\n",
      "219/219 [==============================] - 137s 627ms/step - loss: 0.6727 - accuracy: 0.7471 - val_loss: 0.9939 - val_accuracy: 0.6686 - lr: 0.0010\n",
      "Epoch 32/100\n",
      "219/219 [==============================] - 135s 614ms/step - loss: 0.6033 - accuracy: 0.7784 - val_loss: 0.9391 - val_accuracy: 0.6907 - lr: 2.0000e-04\n",
      "Epoch 33/100\n",
      "219/219 [==============================] - 129s 589ms/step - loss: 0.5726 - accuracy: 0.7873 - val_loss: 0.9392 - val_accuracy: 0.6950 - lr: 2.0000e-04\n",
      "Epoch 34/100\n",
      "219/219 [==============================] - 128s 586ms/step - loss: 0.5824 - accuracy: 0.7880 - val_loss: 0.9136 - val_accuracy: 0.6950 - lr: 2.0000e-04\n",
      "Epoch 35/100\n",
      "219/219 [==============================] - 137s 625ms/step - loss: 0.5521 - accuracy: 0.7961 - val_loss: 0.9231 - val_accuracy: 0.7064 - lr: 2.0000e-04\n",
      "Epoch 36/100\n",
      "219/219 [==============================] - 142s 649ms/step - loss: 0.5454 - accuracy: 0.8021 - val_loss: 0.9297 - val_accuracy: 0.7000 - lr: 2.0000e-04\n",
      "Epoch 37/100\n",
      "219/219 [==============================] - 138s 630ms/step - loss: 0.5266 - accuracy: 0.8093 - val_loss: 0.9383 - val_accuracy: 0.6986 - lr: 2.0000e-04\n",
      "Epoch 38/100\n",
      "219/219 [==============================] - 139s 634ms/step - loss: 0.5348 - accuracy: 0.8050 - val_loss: 0.9410 - val_accuracy: 0.6929 - lr: 2.0000e-04\n",
      "Epoch 39/100\n",
      "219/219 [==============================] - ETA: 0s - loss: 0.5310 - accuracy: 0.8061\n",
      "Epoch 39: ReduceLROnPlateau reducing learning rate to 4.0000001899898055e-05.\n",
      "219/219 [==============================] - 147s 668ms/step - loss: 0.5310 - accuracy: 0.8061 - val_loss: 0.9355 - val_accuracy: 0.7014 - lr: 2.0000e-04\n",
      "Epoch 40/100\n",
      "219/219 [==============================] - 140s 637ms/step - loss: 0.5181 - accuracy: 0.8100 - val_loss: 0.9140 - val_accuracy: 0.6979 - lr: 4.0000e-05\n",
      "Epoch 41/100\n",
      "219/219 [==============================] - 131s 596ms/step - loss: 0.5198 - accuracy: 0.8097 - val_loss: 0.9158 - val_accuracy: 0.6986 - lr: 4.0000e-05\n",
      "Epoch 42/100\n",
      "219/219 [==============================] - 130s 594ms/step - loss: 0.4978 - accuracy: 0.8204 - val_loss: 0.9185 - val_accuracy: 0.7007 - lr: 4.0000e-05\n",
      "Epoch 43/100\n",
      "219/219 [==============================] - 137s 626ms/step - loss: 0.4997 - accuracy: 0.8174 - val_loss: 0.9172 - val_accuracy: 0.7007 - lr: 4.0000e-05\n",
      "Epoch 44/100\n",
      "219/219 [==============================] - ETA: 0s - loss: 0.5108 - accuracy: 0.8143\n",
      "Epoch 44: ReduceLROnPlateau reducing learning rate to 1e-05.\n",
      "219/219 [==============================] - 152s 692ms/step - loss: 0.5108 - accuracy: 0.8143 - val_loss: 0.9168 - val_accuracy: 0.7029 - lr: 4.0000e-05\n"
     ]
    }
   ],
   "execution_count": 10
  },
  {
   "metadata": {
    "ExecuteTime": {
     "end_time": "2025-07-21T18:41:39.467501Z",
     "start_time": "2025-07-21T18:41:39.367480Z"
    }
   },
   "cell_type": "code",
   "source": [
    "import matplotlib.pyplot as plt\n",
    "\n",
    "plt.plot(history.history['accuracy'], label='Treino')\n",
    "plt.plot(history.history['val_accuracy'], label='Validação')\n",
    "plt.xlabel(\"Épocas\") # épocas de treinamento\n",
    "plt.ylabel(\"Acurácia\") # proporção de previsões corretas\n",
    "plt.legend()\n",
    "plt.grid()\n",
    "\n",
    "# Apresenta um gráfico de linha que acompanha a evolução do modelo ao longo do tempo.\n",
    "plt.show()\n"
   ],
   "id": "321a12df",
   "outputs": [
    {
     "data": {
      "text/plain": [
       "<Figure size 640x480 with 1 Axes>"
      ],
      "image/png": "[encoded data removed]"
     },
     "metadata": {},
     "output_type": "display_data"
    }
   ],
   "execution_count": 18
  },
  {
   "metadata": {},
   "cell_type": "markdown",
   "source": [
    "## Testes\n",
    "\n",
    "Essa étapa faz uso do conjunto de dados de teste para julgar o quão bom foi o treinamento do modelo. Ele retorna as métricas definidas na compilação."
   ],
   "id": "8410f309"
  },
  {
   "metadata": {},
   "cell_type": "code",
   "outputs": [
    {
     "name": "stdout",
     "output_type": "stream",
     "text": [
      "44/44 [==============================] - 6s 135ms/step - loss: 0.8828 - accuracy: 0.7079\n",
      "Acurácia no conjunto de teste: 0.7079\n",
      "Perda no conjunto de teste: 0.8828\n"
     ]
    }
   ],
   "execution_count": 17,
   "source": [
    "test_loss, test_accuracy = model.evaluate(x_test) # Avalia o conjunto de dados\n",
    "print(f\"Acurácia no conjunto de teste: {test_accuracy:.4f}\") # Imprime a acurácia do treinamento\n",
    "print(f\"Perda no conjunto de teste: {test_loss:.4f}\") # Imprime a perda do treinamento"
   ],
   "id": "749a028c"
  },
  {
   "metadata": {},
   "cell_type": "markdown",
   "source": [
    "## Avaliação\n",
    "\n",
    "O cálculo das métricas é essencial para avaliar o desempenho do modelo."
   ],
   "id": "c8cf173365f4c453"
  },
  {
   "metadata": {
    "ExecuteTime": {
     "end_time": "2025-07-21T19:00:13.144663Z",
     "start_time": "2025-07-21T19:00:04.152664Z"
    }
   },
   "cell_type": "code",
   "source": [
    "import numpy as np\n",
    "from sklearn.metrics import classification_report, confusion_matrix, accuracy_score\n",
    "\n",
    "# O predict() retorna as probabilidades para cada classe\n",
    "predictions = model.predict(x_test)\n",
    "\n",
    "# Obtém a classe prevista\n",
    "predicted_classes = np.argmax(predictions, axis=1)\n",
    "\n",
    "true_labels = []\n",
    "for images, labels in x_test.unbatch(): # Itera sobre dataset sem lotes o\n",
    "    # Obtém os índices de cada classe\n",
    "    true_labels.append(np.argmax(labels.numpy()))\n",
    "\n",
    "true_labels = np.array(true_labels)"
   ],
   "id": "247ee9f0aa90133b",
   "outputs": [
    {
     "name": "stdout",
     "output_type": "stream",
     "text": [
      "44/44 [==============================] - 8s 191ms/step\n"
     ]
    }
   ],
   "execution_count": 25
  },
  {
   "metadata": {},
   "cell_type": "markdown",
   "source": "A função `confusion_matrix()` imprime a matriz de confusão das predições.",
   "id": "47ba42d17cd58de7"
  },
  {
   "metadata": {
    "ExecuteTime": {
     "end_time": "2025-07-21T19:27:19.839701Z",
     "start_time": "2025-07-21T19:27:19.824851Z"
    }
   },
   "cell_type": "code",
   "source": "print(confusion_matrix(true_labels, predicted_classes))",
   "id": "349286a16f0867cf",
   "outputs": [
    {
     "name": "stdout",
     "output_type": "stream",
     "text": [
      "[[110  10  17  21   1   6  35]\n",
      " [ 14 123   6  20  10   5  22]\n",
      " [  9   2 163   8   1  12   5]\n",
      " [ 19   3   7 150   6   3  12]\n",
      " [  0   4   3  12 176   4   1]\n",
      " [ 12   7  31  10  13 119   8]\n",
      " [ 16  15   2  14   0   3 150]]\n"
     ]
    }
   ],
   "execution_count": 32
  },
  {
   "metadata": {},
   "cell_type": "markdown",
   "source": "A função `classification_report()` calcula precisão, recall e F1-score para cada classe. Além de calcular a média macro e a média ponderada da precisão, recall e F1-score de cada classe.",
   "id": "2cd8b9f76c19c202"
  },
  {
   "metadata": {
    "ExecuteTime": {
     "end_time": "2025-07-21T19:32:32.411886Z",
     "start_time": "2025-07-21T19:32:32.385326Z"
    }
   },
   "cell_type": "code",
   "source": "print(classification_report(true_labels, predicted_classes))",
   "id": "bcc528a709f51f54",
   "outputs": [
    {
     "name": "stdout",
     "output_type": "stream",
     "text": [
      "              precision    recall  f1-score   support\n",
      "\n",
      "           0       0.61      0.55      0.58       200\n",
      "           1       0.75      0.61      0.68       200\n",
      "           2       0.71      0.81      0.76       200\n",
      "           3       0.64      0.75      0.69       200\n",
      "           4       0.85      0.88      0.86       200\n",
      "           5       0.78      0.59      0.68       200\n",
      "           6       0.64      0.75      0.69       200\n",
      "\n",
      "    accuracy                           0.71      1400\n",
      "   macro avg       0.71      0.71      0.71      1400\n",
      "weighted avg       0.71      0.71      0.71      1400\n",
      "\n"
     ]
    }
   ],
   "execution_count": 33
  },
  {
   "metadata": {},
   "cell_type": "markdown",
   "source": [
    "A **acurácia geral** do modelo de classificação das imagens de células é de `71%`, o que representa um resultado bom, visto a complexidade da tarefa.\n",
    "\n",
    "Ao analisar individualmente cada temos que a **classe 0 (células Blastos)**, possui o pior desempenho do modelo, com a menor **precisão** (`0.61`), **recall** (`0.55`) e **F1-score** (`0.58`). Em contrapartida, a **classe 4 (células Neutrófilos Seg.)** é o que o modelo tem maior facilidade de identificar, com **precisão** de `0.85`, **recall** de `0.88` e **F1-score** de `o.86`, indicando um excelente desempenho na identificação dessa célula.\n",
    "\n",
    "Com relação ao restante das células, o modelo apresenta um desempenho bom identificando as classes **1 (Eosinófilos), 2 (Linfócitos) e 5 (Não Ident.)** e um pouco abaixo nas classes **3 (Monócitos) e 6(Promielócitos)**.\n",
    "\n",
    "A **média macro** com os valores de **Precisão**: `0.71`, **Recall**: `0.71`, **F1-score**: `0.71`. O fato de todos serem `0.71` indica que as métricas estão bem balanceadas.\n",
    "\n",
    "Os valores da **média ponderada** são todos iguais porque o `support` é igual para todas as classes (200), então a média ponderada será a mesma que a **média macro** e a **acurácia**."
   ],
   "id": "95790b22cd71f274"
  }
 ],
 "metadata": {
  "kernelspec": {
   "display_name": "venv",
   "language": "python",
   "name": "python3"
  },
  "language_info": {
   "codemirror_mode": {
    "name": "ipython",
    "version": 3
   },
   "file_extension": ".py",
   "mimetype": "text/x-python",
   "name": "python",
   "nbconvert_exporter": "python",
   "pygments_lexer": "ipython3",
   "version": "3.12.10"
  }
 },
 "nbformat": 4,
 "nbformat_minor": 5
}
