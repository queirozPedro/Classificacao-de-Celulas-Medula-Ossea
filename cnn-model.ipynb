{
 "cells": [
  {
   "cell_type": "markdown",
   "id": "762c891695fa1f8e",
   "metadata": {},
   "source": [
    "## Carregamento dos Dados"
   ]
  },
  {
   "cell_type": "code",
   "execution_count": 9,
   "id": "initial_id",
   "metadata": {
    "ExecuteTime": {
     "end_time": "2025-07-05T00:34:18.182868Z",
     "start_time": "2025-07-05T00:34:17.415833Z"
    },
    "collapsed": true
   },
   "outputs": [
    {
     "name": "stdout",
     "output_type": "stream",
     "text": [
      "Found 7000 files belonging to 7 classes.\n",
      "Found 1400 files belonging to 7 classes.\n",
      "Found 1400 files belonging to 7 classes.\n"
     ]
    }
   ],
   "source": [
    "import tensorflow as tf\n",
    "\n",
    "x_train = tf.keras.utils.image_dataset_from_directory(\n",
    "    \"dataset/train\",\n",
    "    labels=\"inferred\", # Os rótulos são definidos a partir dos nomes das subpastas\n",
    "    label_mode=\"categorical\", # Formato categórico dos rótulos\n",
    "    batch_size=32, # Lotes de 32 imagens\n",
    "    image_size=(128, 128), # Redimensiona as imagens para 128x128\n",
    "    shuffle=True, # Embaralha as imagens para evitar que a rede aprenda padrões de ordenação\n",
    ")\n",
    "\n",
    "x_test = tf.keras.utils.image_dataset_from_directory(\n",
    "    \"dataset/test\",\n",
    "    labels=\"inferred\", # Os rótulos são definidos a partir dos nomes das subpastas\n",
    "    label_mode=\"categorical\", # Formato categórico dos rótulos\n",
    "    batch_size=32, # Lotes de 32 imagens\n",
    "    image_size=(128, 128), # Redimensiona as imagens para 128x128\n",
    "    shuffle=False, # Não precisa embaralhar nos dados de teste\n",
    ")\n",
    "\n",
    "x_val = tf.keras.utils.image_dataset_from_directory(\n",
    "    \"dataset/validation\",\n",
    "    labels=\"inferred\", # Os rótulos são definidos a partir dos nomes das subpastas\n",
    "    label_mode=\"categorical\", # Formato categórico dos rótulos\n",
    "    batch_size=32, # Lotes de 32 imagens\n",
    "    image_size=(128, 128), # Redimensiona as imagens para 128x128\n",
    "    shuffle=False, # Não precisa embaralhar nos dados de validação\n",
    ")"
   ]
  },
  {
   "cell_type": "markdown",
   "id": "907cfe3e98437d5b",
   "metadata": {},
   "source": [
    "## Normalização"
   ]
  },
  {
   "cell_type": "code",
   "execution_count": 10,
   "id": "263f315e1002d825",
   "metadata": {
    "ExecuteTime": {
     "end_time": "2025-07-05T00:34:18.290625Z",
     "start_time": "2025-07-05T00:34:18.191372Z"
    }
   },
   "outputs": [],
   "source": [
    "# Camada que normaliza as imagens do intervalo [0, 255] para [0, 1]\n",
    "normalization_layer = tf.keras.layers.Rescaling(1./255)\n",
    "\n",
    "# Aplicação a normalização às imagens de cada dataset\n",
    "x_train = x_train.map(lambda x, y: (normalization_layer(x), y))\n",
    "x_val = x_val.map(lambda x, y: (normalization_layer(x), y))\n",
    "x_test = x_test.map(lambda x, y: (normalization_layer(x), y))"
   ]
  },
  {
   "cell_type": "markdown",
   "id": "9322a3ca",
   "metadata": {},
   "source": [
    "## Criação do Modelo CNN\n",
    "\n",
    "Para a criação da CNN foi utilizado o modelo **Sequential**, o qual estabelece uma sequência de camadas que são empilhadas e executadas sequencialmente.\n",
    "\n",
    "### Camada Convolucional\n",
    "\n",
    "Essa camada detecta os padrões presentes na imagem e retorna as suas características.\n",
    "\n",
    "Uma camada `Conv2D` usa filtros, uma pequena matriz de números, que desliza sobre a imagem. Em cada posição é realizado uma operação matemática que retorna um número que representa o quão presente é o padrão daquele filtro na imagem; quanto maior o número mais presente será esse padrão. No final dessa operação é retornado um mapa de características. Se tiver 32 filtros, haverá 32 mapas de características diferentes, cada um destacando um tipo específico de padrão.\n",
    "\n",
    "Em cada mapa é aplicado a função de ativação `ReLU (max(0, z))`, que transforma todas os negativos em 0.\n",
    "\n",
    "Na primeira camada Convolucional é aplicado **32 filtros** de matriz **3x3** à imagem original de **128x128**, resultando em **32 mapas de características**. Esses filtros aprenderão caracaterísticas de baixo nível, como bordas e cantos.\n",
    "\n",
    "Os 32 mapas da camada anterior servirão como entrada para a segunda camada, onde **64 novos filtros** percorrerão esses mapas. Os filtros dessa camada irão combinar as características de baixo nível que foram aprendidas na camada anterior para detectar padrões mais complexos. Ao final dessa camada terá **64 novos mapas de características**.\n",
    "\n",
    "A terceira camada Convolucional executará o mesmo processo anterior com **128 filtros**, resultando em **128 mapas de características** com padrões ainda mais complexos e abstratos.\n",
    "\n",
    "### Camada de Pooling\n",
    "\n",
    "Após cada camada Convolucional é executado uma camada de agrupamento, onde o tamanho dos mapas de características é reduzido. Neste caso, o `MaxPooling2D` divide os mapas em regiões **2x2** e seleciona o valor máximo dentro de cada região.\n",
    "\n",
    "Ao realizar esse processo, o tamanho dos mapas é reduzido pela metade, mantendo apenas as características mais relevantes. Além disso, a diminuição de parâmetros ajuda a prevenir o overfitting.\n",
    "\n",
    "### Camada de Flatten\n",
    "\n",
    "Nessa camada a estrutura 3D das informações que foram passadas pelas camadas anteriores são transformadas em um único vetor 1D. Isso é necessário porque as próximas camadas esperam uma entrada em formato de vetor.\n",
    "\n",
    "### Camada de Dropout\n",
    "\n",
    "A técnica de `Dropout` utilizada nessa camada está \"desligando\" (define como 0) aleatoriamente 50% dos neurônios da camada anterior em cada iteração do treinamento. Isso é necessário porque força o modelo a aprender características mais robustas das imagens e não depender apenas de um único neurônio para tomar a decisão. Essa camada evita que o modelo aprenda demais de quaisquer características ajudando a generalizar melhor, evitando o overfitting.\n",
    "\n",
    "### Camada Densa\n",
    "\n",
    "As camadas densas são onde as características aprendidas são combinadas para a decisão final, em que os 128 neurônios realizam um cálculo ponderado de todos os valores de entrada do vetor da camada anterior.\n",
    "\n",
    "$$Output_j = \\sum_{i} (Input_i \\times Weight_{ij}) + Bias_j$$\n",
    "\n",
    "O resultado desse cálculo passa pela função de ativação **ReLU**. Se o valor for positivo, ele permanece o mesmo; se for negativo, torna-se zero.\n",
    "\n",
    "Por fim, é executado a última camada do modelo, em que os 7 neurônios dessa camada, que correspondem às 7 classes das células, recebem a saída dos 128 neurônios da camada anterior e realizam novamente o cálculo ponderado.\n",
    "\n",
    "As saídas desses 7 neurônios são passados pela função **Softmax**, que converte os valores em probabilidades, onde cada valor está entre **0 e 1**. A soma das probabilidades de todas as 7 saídas sempre será igual a 1. O neurônio com maior probabilidade indica classe que foi prevista pelo modelo."
   ]
  },
  {
   "cell_type": "code",
   "execution_count": 11,
   "id": "08ba4ea4",
   "metadata": {},
   "outputs": [],
   "source": [
    "# Modelo sequencial onde as camadas são empilhadas uma acima da outra\n",
    "model = tf.keras.Sequential([\n",
    "    \n",
    "    # Primeira camada Convolucional \n",
    "    tf.keras.layers.Conv2D(32, # Número de filtros\n",
    "                           (3, 3), # Tamanho do filtro (3 por 3 pixels)\n",
    "                           activation='relu', # Função de ativação ReLU\n",
    "                           input_shape=(128, 128, 3)), # Dimenções das imagens\n",
    "\n",
    "    # Reduz a resolução da imagem pela metade através do agrupamento guloso de um grupo de 2 por 2 pixels\n",
    "    tf.keras.layers.MaxPooling2D((2, 2)), \n",
    "\n",
    "    # Segunda camada Convolucional \n",
    "    tf.keras.layers.Conv2D(64, (3, 3), activation='relu'),\n",
    "    tf.keras.layers.MaxPooling2D((2, 2)),\n",
    "\n",
    "    # Terceira camada Convolucional \n",
    "    tf.keras.layers.Conv2D(128, (3, 3), activation='relu'),\n",
    "    tf.keras.layers.MaxPooling2D((2, 2)),\n",
    "\n",
    "    # Transforma a saída 3D da ultima camada em um vetor de uma dimenção\n",
    "    tf.keras.layers.Flatten(),\n",
    "    \n",
    "    # Evita overfitting desligando 50% dos neurónios de maneira aleatória durante os treinos\n",
    "    tf.keras.layers.Dropout(0.5),\n",
    "\n",
    "    # Camada com 128 neurônios conectados\n",
    "    tf.keras.layers.Dense(128, activation='relu'),\n",
    "    \n",
    "    # Camada com o numero de tipos de celulas e função de ativação Softmax (transforma valores em probabilidades)\n",
    "    tf.keras.layers.Dense(7, activation='softmax')\n",
    "])"
   ]
  },
  {
   "cell_type": "markdown",
   "id": "22087714",
   "metadata": {},
   "source": [
    "## Compilação do Modelo"
   ]
  },
  {
   "cell_type": "code",
   "execution_count": 12,
   "id": "9b891f1b",
   "metadata": {},
   "outputs": [],
   "source": [
    "# Compila o modelo deixado pronto para treino\n",
    "model.compile(\n",
    "    # Otimizador \n",
    "    optimizer='adam',\n",
    "    # Função de perda\n",
    "    loss='categorical_crossentropy',\n",
    "    # Métrica para acompanhar a acurácia. \n",
    "    metrics=['accuracy']\n",
    ")\n"
   ]
  }
 ],
 "metadata": {
  "kernelspec": {
   "display_name": "venv",
   "language": "python",
   "name": "python3"
  },
  "language_info": {
   "codemirror_mode": {
    "name": "ipython",
    "version": 3
   },
   "file_extension": ".py",
   "mimetype": "text/x-python",
   "name": "python",
   "nbconvert_exporter": "python",
   "pygments_lexer": "ipython3",
   "version": "3.12.4"
  }
 },
 "nbformat": 4,
 "nbformat_minor": 5
}
