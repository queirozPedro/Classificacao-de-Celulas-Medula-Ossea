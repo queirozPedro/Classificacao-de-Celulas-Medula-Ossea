{
 "cells": [
  {
   "cell_type": "markdown",
   "id": "762c891695fa1f8e",
   "metadata": {},
   "source": [
    "## Carregamento dos Dados"
   ]
  },
  {
   "cell_type": "code",
   "execution_count": 9,
   "id": "initial_id",
   "metadata": {
    "ExecuteTime": {
     "end_time": "2025-07-05T00:34:18.182868Z",
     "start_time": "2025-07-05T00:34:17.415833Z"
    },
    "collapsed": true
   },
   "outputs": [
    {
     "name": "stdout",
     "output_type": "stream",
     "text": [
      "Found 7000 files belonging to 7 classes.\n",
      "Found 1400 files belonging to 7 classes.\n",
      "Found 1400 files belonging to 7 classes.\n"
     ]
    }
   ],
   "source": [
    "import tensorflow as tf\n",
    "\n",
    "x_train = tf.keras.utils.image_dataset_from_directory(\n",
    "    \"dataset/train\",\n",
    "    labels=\"inferred\", # Os rótulos são definidos a partir dos nomes das subpastas\n",
    "    label_mode=\"categorical\", # Formato categórico dos rótulos\n",
    "    batch_size=32, # Lotes de 32 imagens\n",
    "    image_size=(128, 128), # Redimensiona as imagens para 128x128\n",
    "    shuffle=True, # Embaralha as imagens para evitar que a rede aprenda padrões de ordenação\n",
    ")\n",
    "\n",
    "x_test = tf.keras.utils.image_dataset_from_directory(\n",
    "    \"dataset/test\",\n",
    "    labels=\"inferred\", # Os rótulos são definidos a partir dos nomes das subpastas\n",
    "    label_mode=\"categorical\", # Formato categórico dos rótulos\n",
    "    batch_size=32, # Lotes de 32 imagens\n",
    "    image_size=(128, 128), # Redimensiona as imagens para 128x128\n",
    "    shuffle=False, # Não precisa embaralhar nos dados de teste\n",
    ")\n",
    "\n",
    "x_val = tf.keras.utils.image_dataset_from_directory(\n",
    "    \"dataset/validation\",\n",
    "    labels=\"inferred\", # Os rótulos são definidos a partir dos nomes das subpastas\n",
    "    label_mode=\"categorical\", # Formato categórico dos rótulos\n",
    "    batch_size=32, # Lotes de 32 imagens\n",
    "    image_size=(128, 128), # Redimensiona as imagens para 128x128\n",
    "    shuffle=False, # Não precisa embaralhar nos dados de validação\n",
    ")"
   ]
  },
  {
   "cell_type": "markdown",
   "id": "907cfe3e98437d5b",
   "metadata": {},
   "source": [
    "## Normalização"
   ]
  },
  {
   "cell_type": "code",
   "execution_count": 10,
   "id": "263f315e1002d825",
   "metadata": {
    "ExecuteTime": {
     "end_time": "2025-07-05T00:34:18.290625Z",
     "start_time": "2025-07-05T00:34:18.191372Z"
    }
   },
   "outputs": [],
   "source": [
    "# Camada que normaliza as imagens do intervalo [0, 255] para [0, 1]\n",
    "normalization_layer = tf.keras.layers.Rescaling(1./255)\n",
    "\n",
    "# Aplicação a normalização às imagens de cada dataset\n",
    "x_train = x_train.map(lambda x, y: (normalization_layer(x), y))\n",
    "x_val = x_val.map(lambda x, y: (normalization_layer(x), y))\n",
    "x_test = x_test.map(lambda x, y: (normalization_layer(x), y))"
   ]
  },
  {
   "cell_type": "markdown",
   "id": "9322a3ca",
   "metadata": {},
   "source": [
    "## Criação do Modelo CNN"
   ]
  },
  {
   "cell_type": "code",
   "execution_count": 11,
   "id": "08ba4ea4",
   "metadata": {},
   "outputs": [],
   "source": [
    "# Modelo sequencial onde as camadas são empilhadas uma acima da outra\n",
    "model = tf.keras.Sequential([\n",
    "    \n",
    "    # Primeira camada Convolucional \n",
    "    tf.keras.layers.Conv2D(32, # Número de filtros\n",
    "                           (3, 3), # Tamanho do filtro (3 por 3 pixels)\n",
    "                           activation='relu', # Função de ativação ReLU\n",
    "                           input_shape=(128, 128, 3)), # Dimenções das imagens\n",
    "\n",
    "    # Reduz a resolução da imagem pela metade através do agrupamento guloso de um grupo de 2 por 2 pixels\n",
    "    tf.keras.layers.MaxPooling2D((2, 2)), \n",
    "\n",
    "    # Segunda camada Convolucional \n",
    "    tf.keras.layers.Conv2D(64, (3, 3), activation='relu'),\n",
    "    tf.keras.layers.MaxPooling2D((2, 2)),\n",
    "\n",
    "    # Terceira camada Convolucional \n",
    "    tf.keras.layers.Conv2D(128, (3, 3), activation='relu'),\n",
    "    tf.keras.layers.MaxPooling2D((2, 2)),\n",
    "\n",
    "    # Transforma a saída 3D da ultima camada em um vetor de uma dimenção\n",
    "    tf.keras.layers.Flatten(),\n",
    "    \n",
    "    # Evita overfitting desligando 50% dos neurónios de maneira aleatória durante os treinos\n",
    "    tf.keras.layers.Dropout(0.5),\n",
    "\n",
    "    # Camada com 128 neurônios conectados\n",
    "    tf.keras.layers.Dense(128, activation='relu'),\n",
    "    \n",
    "    # Camada com o numero de tipos de celulas e função de ativação Softmax (transforma valores em probabilidades)\n",
    "    tf.keras.layers.Dense(7, activation='softmax')\n",
    "])"
   ]
  },
  {
   "cell_type": "markdown",
   "id": "22087714",
   "metadata": {},
   "source": [
    "## Compilação do Modelo"
   ]
  },
  {
   "cell_type": "code",
   "execution_count": 12,
   "id": "9b891f1b",
   "metadata": {},
   "outputs": [],
   "source": [
    "# Compila o modelo deixado pronto para treino\n",
    "model.compile(\n",
    "    # Otimizador \n",
    "    optimizer='adam',\n",
    "    # Função de perda\n",
    "    loss='categorical_crossentropy',\n",
    "    # Métrica para acompanhar a acurácia. \n",
    "    metrics=['accuracy']\n",
    ")\n"
   ]
  }
 ],
 "metadata": {
  "kernelspec": {
   "display_name": "venv",
   "language": "python",
   "name": "python3"
  },
  "language_info": {
   "codemirror_mode": {
    "name": "ipython",
    "version": 3
   },
   "file_extension": ".py",
   "mimetype": "text/x-python",
   "name": "python",
   "nbconvert_exporter": "python",
   "pygments_lexer": "ipython3",
   "version": "3.12.4"
  }
 },
 "nbformat": 4,
 "nbformat_minor": 5
}
