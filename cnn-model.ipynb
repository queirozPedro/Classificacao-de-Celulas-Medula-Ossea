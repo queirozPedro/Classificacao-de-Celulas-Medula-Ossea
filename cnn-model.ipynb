{
 "cells": [
  {
   "cell_type": "markdown",
   "id": "762c891695fa1f8e",
   "metadata": {},
   "source": [
    "## Carregamento dos Dados"
   ]
  },
  {
   "cell_type": "code",
   "execution_count": 7,
   "id": "initial_id",
   "metadata": {
    "ExecuteTime": {
     "end_time": "2025-07-05T00:34:18.182868Z",
     "start_time": "2025-07-05T00:34:17.415833Z"
    },
    "collapsed": true
   },
   "outputs": [
    {
     "name": "stdout",
     "output_type": "stream",
     "text": [
      "Found 7000 files belonging to 7 classes.\n",
      "Found 1400 files belonging to 7 classes.\n",
      "Found 1400 files belonging to 7 classes.\n"
     ]
    }
   ],
   "source": [
    "import tensorflow as tf\n",
    "import numpy as np\n",
    "\n",
    "train_ds = tf.keras.utils.image_dataset_from_directory(\n",
    "    \"dataset/train\",\n",
    "    labels=\"inferred\", # Os rótulos são definidos a partir dos nomes das subpastas\n",
    "    label_mode=\"categorical\", # Formato categórico dos rótulos\n",
    "    batch_size=32, # Lotes de 32 imagens\n",
    "    image_size=(128, 128), # Redimensiona as imagens para 128x128\n",
    "    shuffle=True, # Embaralha as imagens para evitar que a rede aprenda padrões de ordenação\n",
    ")\n",
    "\n",
    "test_ds = tf.keras.utils.image_dataset_from_directory(\n",
    "    \"dataset/test\",\n",
    "    labels=\"inferred\", # Os rótulos são definidos a partir dos nomes das subpastas\n",
    "    label_mode=\"categorical\", # Formato categórico dos rótulos\n",
    "    batch_size=32, # Lotes de 32 imagens\n",
    "    image_size=(128, 128), # Redimensiona as imagens para 128x128\n",
    "    shuffle=False, # Não precisa embaralhar nos dados de teste\n",
    ")\n",
    "\n",
    "val_ds = tf.keras.utils.image_dataset_from_directory(\n",
    "    \"dataset/validation\",\n",
    "    labels=\"inferred\", # Os rótulos são definidos a partir dos nomes das subpastas\n",
    "    label_mode=\"categorical\", # Formato categórico dos rótulos\n",
    "    batch_size=32, # Lotes de 32 imagens\n",
    "    image_size=(128, 128), # Redimensiona as imagens para 128x128\n",
    "    shuffle=False, # Não precisa embaralhar nos dados de validação\n",
    ")"
   ]
  },
  {
   "cell_type": "markdown",
   "id": "907cfe3e98437d5b",
   "metadata": {},
   "source": [
    "## Normalização"
   ]
  },
  {
   "cell_type": "code",
   "execution_count": 8,
   "id": "263f315e1002d825",
   "metadata": {
    "ExecuteTime": {
     "end_time": "2025-07-05T00:34:18.290625Z",
     "start_time": "2025-07-05T00:34:18.191372Z"
    }
   },
   "outputs": [],
   "source": [
    "# Camada que normaliza as imagens do intervalo [0, 255] para [0, 1]\n",
    "normalization_layer = tf.keras.layers.Rescaling(1./255)\n",
    "\n",
    "# Aplicação a normalização às imagens de cada dataset\n",
    "train_ds = train_ds.map(lambda x, y: (normalization_layer(x), y))\n",
    "val_ds = val_ds.map(lambda x, y: (normalization_layer(x), y))\n",
    "test_ds = test_ds.map(lambda x, y: (normalization_layer(x), y))"
   ]
  }
 ],
 "metadata": {
  "kernelspec": {
   "display_name": "venv",
   "language": "python",
   "name": "python3"
  },
  "language_info": {
   "codemirror_mode": {
    "name": "ipython",
    "version": 3
   },
   "file_extension": ".py",
   "mimetype": "text/x-python",
   "name": "python",
   "nbconvert_exporter": "python",
   "pygments_lexer": "ipython3",
   "version": "3.12.4"
  }
 },
 "nbformat": 4,
 "nbformat_minor": 5
}
