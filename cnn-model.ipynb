{
 "cells": [
  {
   "cell_type": "code",
   "id": "initial_id",
   "metadata": {
    "collapsed": true,
    "ExecuteTime": {
     "end_time": "2025-06-29T19:31:34.388001Z",
     "start_time": "2025-06-29T19:31:34.382484Z"
    }
   },
   "source": [
    "import os\n",
    "import numpy as np\n",
    "from PIL import Image\n",
    "\n",
    "def load_images(folder_path, image_size=(128, 128)):\n",
    "    # Inicialização do vetor das imagens\n",
    "    X = []\n",
    "    # Inicialização do vetor das classes\n",
    "    y = []\n",
    "\n",
    "    # Obtém os nomes das classes\n",
    "    class_names = sorted(os.listdir(folder_path))\n",
    "    # Enumera as classes\n",
    "    class_to_index = {name: i for i, name in enumerate(class_names)}\n",
    "\n",
    "    # Iteração pelas classes\n",
    "    for class_name in class_names:\n",
    "        # Obtém o nome da pasta da classe\n",
    "        class_folder = os.path.join(folder_path, class_name)\n",
    "\n",
    "        # Iteração pelas imagens de cada classe\n",
    "        for img_file in os.listdir(class_folder):\n",
    "\n",
    "            # Atribuição do caminho da imagem e converção para RGB (256x256)\n",
    "            path = os.path.join(class_folder, img_file)\n",
    "            img = Image.open(path).convert(\"RGB\")\n",
    "\n",
    "            # Redimencionamento da imagem para 128x128\n",
    "            img = img.resize(image_size)\n",
    "\n",
    "            # Normalização das imagens para o intervalo 0-1\n",
    "            img_array = np.array(img, dtype=np.float32) / 255.0\n",
    "\n",
    "            X.append(img_array)\n",
    "            y.append(class_to_index[class_name])\n",
    "\n",
    "    # Retorno das imagens e das respectivas classes\n",
    "    return np.array(X), np.array(y)"
   ],
   "outputs": [],
   "execution_count": 42
  },
  {
   "metadata": {
    "ExecuteTime": {
     "end_time": "2025-06-29T19:32:32.354650Z",
     "start_time": "2025-06-29T19:31:35.633002Z"
    }
   },
   "cell_type": "code",
   "source": [
    "# Carregamento dos dados de treinamento\n",
    "X_train, y_train = load_images(\"dataset/train\")\n",
    "\n",
    "# Carregamento dos dados de teste\n",
    "X_test, y_test = load_images(\"dataset/test\")"
   ],
   "id": "263f315e1002d825",
   "outputs": [],
   "execution_count": 43
  }
 ],
 "metadata": {
  "kernelspec": {
   "display_name": "Python 3",
   "language": "python",
   "name": "python3"
  },
  "language_info": {
   "codemirror_mode": {
    "name": "ipython",
    "version": 2
   },
   "file_extension": ".py",
   "mimetype": "text/x-python",
   "name": "python",
   "nbconvert_exporter": "python",
   "pygments_lexer": "ipython2",
   "version": "2.7.6"
  }
 },
 "nbformat": 4,
 "nbformat_minor": 5
}
